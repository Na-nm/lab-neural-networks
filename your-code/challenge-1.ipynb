{
 "cells": [
  {
   "cell_type": "markdown",
   "metadata": {},
   "source": [
    "# Challenge 1 - Tic Tac Toe\n",
    "\n",
    "In this lab you will perform deep learning analysis on a dataset of playing [Tic Tac Toe](https://en.wikipedia.org/wiki/Tic-tac-toe).\n",
    "\n",
    "There are 9 grids in Tic Tac Toe that are coded as the following picture shows:\n",
    "\n",
    "![Tic Tac Toe Grids](tttboard.jpg)\n",
    "\n",
    "In the first 9 columns of the dataset you can find which marks (`x` or `o`) exist in the grids. If there is no mark in a certain grid, it is labeled as `b`. The last column is `class` which tells you whether Player X (who always moves first in Tic Tac Toe) wins in this configuration. Note that when `class` has the value `False`, it means either Player O wins the game or it ends up as a draw."
   ]
  },
  {
   "cell_type": "markdown",
   "metadata": {},
   "source": [
    "Follow the steps suggested below to conduct a neural network analysis using Tensorflow and Keras. You will build a deep learning model to predict whether Player X wins the game or not.\n",
    "\n",
    "## Step 1: Data Engineering\n",
    "\n",
    "This dataset is almost in the ready-to-use state so you do not need to worry about missing values and so on. Still, some simple data engineering is needed.\n",
    "\n",
    "1. Read `tic-tac-toe.csv` into a dataframe.\n",
    "1. Inspect the dataset. Determine if the dataset is reliable by eyeballing the data.\n",
    "1. Convert the categorical values to numeric in all columns.\n",
    "1. Separate the inputs and output.\n",
    "1. Normalize the input data."
   ]
  },
  {
   "cell_type": "code",
   "execution_count": null,
   "metadata": {},
   "outputs": [],
   "source": [
    "# your code here\n",
    "import pandas as pd \n",
    "from sklearn.preprocessing import MinMaxScaler\n",
    "import numpy as np\n",
    "import tensorflow as tf\n",
    "from sklearn.model_selection import train_test_split\n",
    "from sklearn.preprocessing import MinMaxScaler"
   ]
  },
  {
   "cell_type": "code",
   "execution_count": 25,
   "metadata": {},
   "outputs": [
    {
     "name": "stdout",
     "output_type": "stream",
     "text": [
      "  TL TM TR ML MM MR BL BM BR  class\n",
      "0  x  x  x  x  o  o  x  o  o   True\n",
      "1  x  x  x  x  o  o  o  x  o   True\n",
      "2  x  x  x  x  o  o  o  o  x   True\n",
      "3  x  x  x  x  o  o  o  b  b   True\n",
      "4  x  x  x  x  o  o  b  o  b   True\n",
      "<class 'pandas.core.frame.DataFrame'>\n",
      "RangeIndex: 958 entries, 0 to 957\n",
      "Data columns (total 10 columns):\n",
      " #   Column  Non-Null Count  Dtype \n",
      "---  ------  --------------  ----- \n",
      " 0   TL      958 non-null    object\n",
      " 1   TM      958 non-null    object\n",
      " 2   TR      958 non-null    object\n",
      " 3   ML      958 non-null    object\n",
      " 4   MM      958 non-null    object\n",
      " 5   MR      958 non-null    object\n",
      " 6   BL      958 non-null    object\n",
      " 7   BM      958 non-null    object\n",
      " 8   BR      958 non-null    object\n",
      " 9   class   958 non-null    bool  \n",
      "dtypes: bool(1), object(9)\n",
      "memory usage: 68.4+ KB\n",
      "None\n"
     ]
    }
   ],
   "source": [
    "# 1: Read the dataset\n",
    "df = pd.read_csv('tic-tac-toe.csv').copy()\n",
    "\n",
    "# 2: Inspect the dataset\n",
    "print(df.head())\n",
    "print(df.info())"
   ]
  },
  {
   "cell_type": "code",
   "execution_count": 26,
   "metadata": {},
   "outputs": [],
   "source": [
    "# 3: Convert categorical values to numeric\n",
    "mapping = {'x': 1, 'o': -1, 'b': 0}\n",
    "df.iloc[:, :-1] = df.iloc[:, :-1].applymap(lambda x: mapping[x])\n",
    "df['class'] = df['class'].astype(int)  # Convert class to numeric (True -> 1, False -> 0)\n"
   ]
  },
  {
   "cell_type": "code",
   "execution_count": 46,
   "metadata": {},
   "outputs": [
    {
     "name": "stdout",
     "output_type": "stream",
     "text": [
      "  TL TM TR ML  MM  MR  BL  BM  BR  class\n",
      "0  1  1  1  1  -1  -1   1  -1  -1      1\n",
      "1  1  1  1  1  -1  -1  -1   1  -1      1\n",
      "2  1  1  1  1  -1  -1  -1  -1   1      1\n",
      "3  1  1  1  1  -1  -1  -1   0   0      1\n",
      "4  1  1  1  1  -1  -1   0  -1   0      1\n",
      "<class 'pandas.core.frame.DataFrame'>\n",
      "RangeIndex: 958 entries, 0 to 957\n",
      "Data columns (total 10 columns):\n",
      " #   Column  Non-Null Count  Dtype \n",
      "---  ------  --------------  ----- \n",
      " 0   TL      958 non-null    object\n",
      " 1   TM      958 non-null    object\n",
      " 2   TR      958 non-null    object\n",
      " 3   ML      958 non-null    object\n",
      " 4   MM      958 non-null    object\n",
      " 5   MR      958 non-null    object\n",
      " 6   BL      958 non-null    object\n",
      " 7   BM      958 non-null    object\n",
      " 8   BR      958 non-null    object\n",
      " 9   class   958 non-null    int32 \n",
      "dtypes: int32(1), object(9)\n",
      "memory usage: 71.2+ KB\n",
      "None\n"
     ]
    }
   ],
   "source": [
    "print(df.head())\n",
    "print(df.info())"
   ]
  },
  {
   "cell_type": "code",
   "execution_count": 27,
   "metadata": {},
   "outputs": [],
   "source": [
    "# 4: Separate inputs and output\n",
    "X = df.iloc[:, :-1]  # First 9 columns as input\n",
    "y = df['class']      # Last column as output\n"
   ]
  },
  {
   "cell_type": "code",
   "execution_count": 28,
   "metadata": {},
   "outputs": [
    {
     "name": "stdout",
     "output_type": "stream",
     "text": [
      "    TL   TM   TR   ML   MM   MR   BL   BM   BR\n",
      "0  1.0  1.0  1.0  1.0  0.0  0.0  1.0  0.0  0.0\n",
      "1  1.0  1.0  1.0  1.0  0.0  0.0  0.0  1.0  0.0\n",
      "2  1.0  1.0  1.0  1.0  0.0  0.0  0.0  0.0  1.0\n",
      "3  1.0  1.0  1.0  1.0  0.0  0.0  0.0  0.5  0.5\n",
      "4  1.0  1.0  1.0  1.0  0.0  0.0  0.5  0.0  0.5\n"
     ]
    }
   ],
   "source": [
    "# 5: Normalize the input data\n",
    "scaler = MinMaxScaler()\n",
    "X_normalized = scaler.fit_transform(X)\n",
    "\n",
    "# Convert back to DataFrame if needed\n",
    "X_normalized = pd.DataFrame(X_normalized, columns=X.columns)\n",
    "\n",
    "print(X_normalized.head())"
   ]
  },
  {
   "cell_type": "markdown",
   "metadata": {},
   "source": [
    "## Step 2: Build Neural Network\n",
    "\n",
    "To build the neural network, you can refer to your own codes you wrote while following the [Deep Learning with Python, TensorFlow, and Keras tutorial](https://www.youtube.com/watch?v=wQ8BIBpya2k) in the lesson. It's pretty similar to what you will be doing in this lab.\n",
    "\n",
    "1. Split the training and test data.\n",
    "1. Create a `Sequential` model.\n",
    "1. Add several layers to your model. Make sure you use ReLU as the activation function for the middle layers. Use Softmax for the output layer because each output has a single lable and all the label probabilities add up to 1.\n",
    "1. Compile the model using `adam` as the optimizer and `sparse_categorical_crossentropy` as the loss function. For metrics, use `accuracy` for now.\n",
    "1. Fit the training data.\n",
    "1. Evaluate your neural network model with the test data.\n",
    "1. Save your model as `tic-tac-toe.model`."
   ]
  },
  {
   "cell_type": "code",
   "execution_count": 34,
   "metadata": {},
   "outputs": [],
   "source": [
    "# your code here\n",
    "# Split data into training and test sets\n",
    "X_train, X_test, y_train, y_test = train_test_split(X_normalized, y, test_size=0.2, random_state=42)\n"
   ]
  },
  {
   "cell_type": "code",
   "execution_count": 35,
   "metadata": {},
   "outputs": [],
   "source": [
    "\n",
    "# Create Sequential and Build the neural network model\n",
    "model = tf.keras.Sequential([\n",
    "    tf.keras.layers.Dense(16, activation='relu', input_shape=(9,)),\n",
    "    tf.keras.layers.Dense(16, activation='relu'),\n",
    "    tf.keras.layers.Dense(2, activation='softmax')\n",
    "])\n",
    "\n",
    "# Compile the model\n",
    "model.compile(optimizer='adam', loss='sparse_categorical_crossentropy', metrics=['accuracy'])\n"
   ]
  },
  {
   "cell_type": "code",
   "execution_count": 36,
   "metadata": {},
   "outputs": [
    {
     "name": "stdout",
     "output_type": "stream",
     "text": [
      "Epoch 1/50\n",
      "24/24 [==============================] - 2s 13ms/step - loss: 0.6349 - accuracy: 0.6632 - val_loss: 0.6309 - val_accuracy: 0.6615\n",
      "Epoch 2/50\n",
      "24/24 [==============================] - 0s 5ms/step - loss: 0.6161 - accuracy: 0.6606 - val_loss: 0.6188 - val_accuracy: 0.6562\n",
      "Epoch 3/50\n",
      "24/24 [==============================] - 0s 5ms/step - loss: 0.6032 - accuracy: 0.6762 - val_loss: 0.6074 - val_accuracy: 0.6823\n",
      "Epoch 4/50\n",
      "24/24 [==============================] - 0s 4ms/step - loss: 0.5895 - accuracy: 0.7076 - val_loss: 0.5947 - val_accuracy: 0.6927\n",
      "Epoch 5/50\n",
      "24/24 [==============================] - 0s 5ms/step - loss: 0.5751 - accuracy: 0.7219 - val_loss: 0.5801 - val_accuracy: 0.6979\n",
      "Epoch 6/50\n",
      "24/24 [==============================] - 0s 4ms/step - loss: 0.5606 - accuracy: 0.7324 - val_loss: 0.5643 - val_accuracy: 0.7135\n",
      "Epoch 7/50\n",
      "24/24 [==============================] - 0s 4ms/step - loss: 0.5456 - accuracy: 0.7441 - val_loss: 0.5488 - val_accuracy: 0.7292\n",
      "Epoch 8/50\n",
      "24/24 [==============================] - 0s 4ms/step - loss: 0.5325 - accuracy: 0.7428 - val_loss: 0.5386 - val_accuracy: 0.7500\n",
      "Epoch 9/50\n",
      "24/24 [==============================] - 0s 4ms/step - loss: 0.5216 - accuracy: 0.7428 - val_loss: 0.5261 - val_accuracy: 0.7396\n",
      "Epoch 10/50\n",
      "24/24 [==============================] - 0s 3ms/step - loss: 0.5108 - accuracy: 0.7402 - val_loss: 0.5175 - val_accuracy: 0.7500\n",
      "Epoch 11/50\n",
      "24/24 [==============================] - 0s 4ms/step - loss: 0.5004 - accuracy: 0.7507 - val_loss: 0.5086 - val_accuracy: 0.7500\n",
      "Epoch 12/50\n",
      "24/24 [==============================] - 0s 4ms/step - loss: 0.4925 - accuracy: 0.7598 - val_loss: 0.5007 - val_accuracy: 0.7708\n",
      "Epoch 13/50\n",
      "24/24 [==============================] - 0s 4ms/step - loss: 0.4845 - accuracy: 0.7546 - val_loss: 0.4945 - val_accuracy: 0.7656\n",
      "Epoch 14/50\n",
      "24/24 [==============================] - 0s 4ms/step - loss: 0.4763 - accuracy: 0.7742 - val_loss: 0.4862 - val_accuracy: 0.7708\n",
      "Epoch 15/50\n",
      "24/24 [==============================] - 0s 4ms/step - loss: 0.4672 - accuracy: 0.7755 - val_loss: 0.4788 - val_accuracy: 0.7760\n",
      "Epoch 16/50\n",
      "24/24 [==============================] - 0s 4ms/step - loss: 0.4606 - accuracy: 0.7794 - val_loss: 0.4727 - val_accuracy: 0.7656\n",
      "Epoch 17/50\n",
      "24/24 [==============================] - 0s 5ms/step - loss: 0.4509 - accuracy: 0.7872 - val_loss: 0.4625 - val_accuracy: 0.7812\n",
      "Epoch 18/50\n",
      "24/24 [==============================] - 0s 4ms/step - loss: 0.4428 - accuracy: 0.7963 - val_loss: 0.4570 - val_accuracy: 0.7865\n",
      "Epoch 19/50\n",
      "24/24 [==============================] - 0s 3ms/step - loss: 0.4342 - accuracy: 0.8003 - val_loss: 0.4474 - val_accuracy: 0.7969\n",
      "Epoch 20/50\n",
      "24/24 [==============================] - 0s 5ms/step - loss: 0.4248 - accuracy: 0.8003 - val_loss: 0.4388 - val_accuracy: 0.7917\n",
      "Epoch 21/50\n",
      "24/24 [==============================] - 0s 6ms/step - loss: 0.4149 - accuracy: 0.8120 - val_loss: 0.4335 - val_accuracy: 0.7865\n",
      "Epoch 22/50\n",
      "24/24 [==============================] - 0s 4ms/step - loss: 0.4074 - accuracy: 0.8133 - val_loss: 0.4267 - val_accuracy: 0.8021\n",
      "Epoch 23/50\n",
      "24/24 [==============================] - 0s 5ms/step - loss: 0.3984 - accuracy: 0.8211 - val_loss: 0.4137 - val_accuracy: 0.8125\n",
      "Epoch 24/50\n",
      "24/24 [==============================] - 0s 4ms/step - loss: 0.3868 - accuracy: 0.8316 - val_loss: 0.4022 - val_accuracy: 0.8125\n",
      "Epoch 25/50\n",
      "24/24 [==============================] - 0s 4ms/step - loss: 0.3787 - accuracy: 0.8499 - val_loss: 0.3933 - val_accuracy: 0.8229\n",
      "Epoch 26/50\n",
      "24/24 [==============================] - 0s 5ms/step - loss: 0.3674 - accuracy: 0.8577 - val_loss: 0.3870 - val_accuracy: 0.8229\n",
      "Epoch 27/50\n",
      "24/24 [==============================] - 0s 4ms/step - loss: 0.3558 - accuracy: 0.8616 - val_loss: 0.3749 - val_accuracy: 0.8229\n",
      "Epoch 28/50\n",
      "24/24 [==============================] - 0s 5ms/step - loss: 0.3453 - accuracy: 0.8838 - val_loss: 0.3645 - val_accuracy: 0.8438\n",
      "Epoch 29/50\n",
      "24/24 [==============================] - 0s 5ms/step - loss: 0.3367 - accuracy: 0.8799 - val_loss: 0.3540 - val_accuracy: 0.8646\n",
      "Epoch 30/50\n",
      "24/24 [==============================] - 0s 4ms/step - loss: 0.3263 - accuracy: 0.8943 - val_loss: 0.3430 - val_accuracy: 0.8854\n",
      "Epoch 31/50\n",
      "24/24 [==============================] - 0s 5ms/step - loss: 0.3159 - accuracy: 0.8982 - val_loss: 0.3356 - val_accuracy: 0.8750\n",
      "Epoch 32/50\n",
      "24/24 [==============================] - 0s 4ms/step - loss: 0.3060 - accuracy: 0.9034 - val_loss: 0.3272 - val_accuracy: 0.8802\n",
      "Epoch 33/50\n",
      "24/24 [==============================] - 0s 4ms/step - loss: 0.2945 - accuracy: 0.9151 - val_loss: 0.3187 - val_accuracy: 0.8906\n",
      "Epoch 34/50\n",
      "24/24 [==============================] - 0s 5ms/step - loss: 0.2869 - accuracy: 0.9151 - val_loss: 0.3118 - val_accuracy: 0.8906\n",
      "Epoch 35/50\n",
      "24/24 [==============================] - 0s 4ms/step - loss: 0.2789 - accuracy: 0.9256 - val_loss: 0.3056 - val_accuracy: 0.9010\n",
      "Epoch 36/50\n",
      "24/24 [==============================] - 0s 4ms/step - loss: 0.2689 - accuracy: 0.9178 - val_loss: 0.2949 - val_accuracy: 0.9010\n",
      "Epoch 37/50\n",
      "24/24 [==============================] - 0s 4ms/step - loss: 0.2594 - accuracy: 0.9399 - val_loss: 0.2932 - val_accuracy: 0.9115\n",
      "Epoch 38/50\n",
      "24/24 [==============================] - 0s 4ms/step - loss: 0.2538 - accuracy: 0.9360 - val_loss: 0.2965 - val_accuracy: 0.8698\n",
      "Epoch 39/50\n",
      "24/24 [==============================] - 0s 4ms/step - loss: 0.2481 - accuracy: 0.9334 - val_loss: 0.2810 - val_accuracy: 0.9167\n",
      "Epoch 40/50\n",
      "24/24 [==============================] - 0s 3ms/step - loss: 0.2360 - accuracy: 0.9426 - val_loss: 0.2665 - val_accuracy: 0.9219\n",
      "Epoch 41/50\n",
      "24/24 [==============================] - 0s 5ms/step - loss: 0.2274 - accuracy: 0.9478 - val_loss: 0.2600 - val_accuracy: 0.9115\n",
      "Epoch 42/50\n",
      "24/24 [==============================] - 0s 4ms/step - loss: 0.2182 - accuracy: 0.9569 - val_loss: 0.2524 - val_accuracy: 0.9219\n",
      "Epoch 43/50\n",
      "24/24 [==============================] - 0s 4ms/step - loss: 0.2114 - accuracy: 0.9608 - val_loss: 0.2494 - val_accuracy: 0.9167\n",
      "Epoch 44/50\n",
      "24/24 [==============================] - 0s 4ms/step - loss: 0.2043 - accuracy: 0.9582 - val_loss: 0.2464 - val_accuracy: 0.9167\n",
      "Epoch 45/50\n",
      "24/24 [==============================] - 0s 5ms/step - loss: 0.1971 - accuracy: 0.9621 - val_loss: 0.2345 - val_accuracy: 0.9323\n",
      "Epoch 46/50\n",
      "24/24 [==============================] - 0s 4ms/step - loss: 0.1965 - accuracy: 0.9595 - val_loss: 0.2296 - val_accuracy: 0.9167\n",
      "Epoch 47/50\n",
      "24/24 [==============================] - 0s 4ms/step - loss: 0.1903 - accuracy: 0.9634 - val_loss: 0.2231 - val_accuracy: 0.9271\n",
      "Epoch 48/50\n",
      "24/24 [==============================] - 0s 5ms/step - loss: 0.1799 - accuracy: 0.9661 - val_loss: 0.2212 - val_accuracy: 0.9167\n",
      "Epoch 49/50\n",
      "24/24 [==============================] - 0s 4ms/step - loss: 0.1754 - accuracy: 0.9634 - val_loss: 0.2230 - val_accuracy: 0.9167\n",
      "Epoch 50/50\n",
      "24/24 [==============================] - 0s 4ms/step - loss: 0.1701 - accuracy: 0.9713 - val_loss: 0.2199 - val_accuracy: 0.9115\n",
      "6/6 [==============================] - 0s 2ms/step - loss: 0.2199 - accuracy: 0.9115\n",
      "Test Accuracy: 0.9115\n"
     ]
    }
   ],
   "source": [
    "# Train the model\n",
    "model.fit(X_train, y_train, epochs=50, validation_data=(X_test, y_test), verbose=1)\n",
    "\n",
    "# Evaluate the model\n",
    "loss, accuracy = model.evaluate(X_test, y_test)\n",
    "print(f'Test Accuracy: {accuracy:.4f}')"
   ]
  },
  {
   "cell_type": "code",
   "execution_count": 37,
   "metadata": {},
   "outputs": [
    {
     "name": "stdout",
     "output_type": "stream",
     "text": [
      "INFO:tensorflow:Assets written to: tic-tac-toe.model\\assets\n"
     ]
    },
    {
     "name": "stderr",
     "output_type": "stream",
     "text": [
      "INFO:tensorflow:Assets written to: tic-tac-toe.model\\assets\n"
     ]
    }
   ],
   "source": [
    "# Save the model\n",
    "model.save('tic-tac-toe.model')"
   ]
  },
  {
   "cell_type": "markdown",
   "metadata": {},
   "source": [
    "## Step 3: Make Predictions\n",
    "\n",
    "Now load your saved model and use it to make predictions on a few random rows in the test dataset. Check if the predictions are correct."
   ]
  },
  {
   "cell_type": "code",
   "execution_count": 38,
   "metadata": {},
   "outputs": [
    {
     "name": "stdout",
     "output_type": "stream",
     "text": [
      "1/1 [==============================] - 0s 107ms/step\n",
      "Board state 1:\n",
      "[[1. 1. 1.]\n",
      " [0. 0. 1.]\n",
      " [0. 0. 1.]]\n",
      "Actual: 1, Predicted: 1\n",
      "------------------------------\n",
      "Board state 2:\n",
      "[[0.5 0.5 1. ]\n",
      " [0.5 1.  0. ]\n",
      " [1.  0.  0.5]]\n",
      "Actual: 1, Predicted: 1\n",
      "------------------------------\n",
      "Board state 3:\n",
      "[[0.5 1.  1. ]\n",
      " [0.  0.  0. ]\n",
      " [1.  0.5 0.5]]\n",
      "Actual: 0, Predicted: 0\n",
      "------------------------------\n",
      "Board state 4:\n",
      "[[1.  0.5 0. ]\n",
      " [1.  1.  0. ]\n",
      " [0.5 0.5 0. ]]\n",
      "Actual: 0, Predicted: 1\n",
      "------------------------------\n",
      "Board state 5:\n",
      "[[0.5 1.  0. ]\n",
      " [0.5 0.  0.5]\n",
      " [0.  1.  1. ]]\n",
      "Actual: 0, Predicted: 0\n",
      "------------------------------\n"
     ]
    }
   ],
   "source": [
    "# your code here\n",
    "# Load the saved model\n",
    "loaded_model = tf.keras.models.load_model('tic-tac-toe.model')\n",
    "\n",
    "# Make predictions on random test samples\n",
    "random_sample = np.random.choice(len(X_test), 5, replace=False)\n",
    "X_sample = X_test.iloc[random_sample]\n",
    "y_actual = y_test.iloc[random_sample]\n",
    "\n",
    "pred = loaded_model.predict(X_sample)\n",
    "pred_classes = np.argmax(pred, axis=1)\n",
    "\n",
    "# Print predictions and actual values to check if they are correct\n",
    "for i in range(len(random_sample)):\n",
    "    print(f'Board state {i+1}:')\n",
    "    print(X_sample.iloc[i].values.reshape(3, 3))\n",
    "    print(f'Actual: {y_actual.iloc[i]}, Predicted: {pred_classes[i]}')\n",
    "    print('-' * 30)\n"
   ]
  },
  {
   "cell_type": "markdown",
   "metadata": {},
   "source": [
    "## Step 4: Improve Your Model\n",
    "\n",
    "Did your model achieve low loss (<0.1) and high accuracy (>0.95)? If not, try to improve your model.\n",
    "\n",
    "But how? There are so many things you can play with in Tensorflow and in the next challenge you'll learn about these things. But in this challenge, let's just do a few things to see if they will help.\n",
    "\n",
    "* Add more layers to your model. If the data are complex you need more layers. But don't use more layers than you need. If adding more layers does not improve the model performance you don't need additional layers.\n",
    "* Adjust the learning rate when you compile the model. This means you will create a custom `tf.keras.optimizers.Adam` instance where you specify the learning rate you want. Then pass the instance to `model.compile` as the optimizer.\n",
    "    * `tf.keras.optimizers.Adam` [reference](https://www.tensorflow.org/api_docs/python/tf/keras/optimizers/Adam).\n",
    "    * Don't worry if you don't understand what the learning rate does. You'll learn about it in the next challenge.\n",
    "* Adjust the number of epochs when you fit the training data to the model. Your model performance continues to improve as you train more epochs. But eventually it will reach the ceiling and the performance will stay the same."
   ]
  },
  {
   "cell_type": "code",
   "execution_count": 43,
   "metadata": {},
   "outputs": [
    {
     "name": "stdout",
     "output_type": "stream",
     "text": [
      "Epoch 1/100\n",
      "24/24 [==============================] - 2s 12ms/step - loss: 0.6331 - accuracy: 0.6632 - val_loss: 0.6142 - val_accuracy: 0.6510\n",
      "Epoch 2/100\n",
      "24/24 [==============================] - 0s 4ms/step - loss: 0.6045 - accuracy: 0.6540 - val_loss: 0.5911 - val_accuracy: 0.6510\n",
      "Epoch 3/100\n",
      "24/24 [==============================] - 0s 4ms/step - loss: 0.5801 - accuracy: 0.6971 - val_loss: 0.5626 - val_accuracy: 0.7083\n",
      "Epoch 4/100\n",
      "24/24 [==============================] - 0s 4ms/step - loss: 0.5554 - accuracy: 0.7232 - val_loss: 0.5409 - val_accuracy: 0.7188\n",
      "Epoch 5/100\n",
      "24/24 [==============================] - 0s 4ms/step - loss: 0.5373 - accuracy: 0.7493 - val_loss: 0.5275 - val_accuracy: 0.7344\n",
      "Epoch 6/100\n",
      "24/24 [==============================] - 0s 4ms/step - loss: 0.5195 - accuracy: 0.7624 - val_loss: 0.5081 - val_accuracy: 0.7500\n",
      "Epoch 7/100\n",
      "24/24 [==============================] - 0s 4ms/step - loss: 0.5007 - accuracy: 0.7755 - val_loss: 0.4983 - val_accuracy: 0.7552\n",
      "Epoch 8/100\n",
      "24/24 [==============================] - 0s 4ms/step - loss: 0.4799 - accuracy: 0.7663 - val_loss: 0.4781 - val_accuracy: 0.7708\n",
      "Epoch 9/100\n",
      "24/24 [==============================] - 0s 4ms/step - loss: 0.4594 - accuracy: 0.7911 - val_loss: 0.4563 - val_accuracy: 0.7917\n",
      "Epoch 10/100\n",
      "24/24 [==============================] - 0s 4ms/step - loss: 0.4322 - accuracy: 0.8094 - val_loss: 0.4429 - val_accuracy: 0.7865\n",
      "Epoch 11/100\n",
      "24/24 [==============================] - 0s 4ms/step - loss: 0.4065 - accuracy: 0.8225 - val_loss: 0.4228 - val_accuracy: 0.8021\n",
      "Epoch 12/100\n",
      "24/24 [==============================] - 0s 4ms/step - loss: 0.3790 - accuracy: 0.8407 - val_loss: 0.3895 - val_accuracy: 0.8438\n",
      "Epoch 13/100\n",
      "24/24 [==============================] - 0s 4ms/step - loss: 0.3463 - accuracy: 0.8642 - val_loss: 0.3630 - val_accuracy: 0.8750\n",
      "Epoch 14/100\n",
      "24/24 [==============================] - 0s 4ms/step - loss: 0.3187 - accuracy: 0.8890 - val_loss: 0.3311 - val_accuracy: 0.9010\n",
      "Epoch 15/100\n",
      "24/24 [==============================] - 0s 5ms/step - loss: 0.2880 - accuracy: 0.9125 - val_loss: 0.3104 - val_accuracy: 0.9062\n",
      "Epoch 16/100\n",
      "24/24 [==============================] - 0s 5ms/step - loss: 0.2660 - accuracy: 0.9256 - val_loss: 0.2824 - val_accuracy: 0.9219\n",
      "Epoch 17/100\n",
      "24/24 [==============================] - 0s 4ms/step - loss: 0.2363 - accuracy: 0.9413 - val_loss: 0.2640 - val_accuracy: 0.9323\n",
      "Epoch 18/100\n",
      "24/24 [==============================] - 0s 4ms/step - loss: 0.2137 - accuracy: 0.9491 - val_loss: 0.2442 - val_accuracy: 0.9323\n",
      "Epoch 19/100\n",
      "24/24 [==============================] - 0s 4ms/step - loss: 0.1901 - accuracy: 0.9556 - val_loss: 0.2114 - val_accuracy: 0.9479\n",
      "Epoch 20/100\n",
      "24/24 [==============================] - 0s 4ms/step - loss: 0.1717 - accuracy: 0.9674 - val_loss: 0.2092 - val_accuracy: 0.9375\n",
      "Epoch 21/100\n",
      "24/24 [==============================] - 0s 4ms/step - loss: 0.1565 - accuracy: 0.9595 - val_loss: 0.1948 - val_accuracy: 0.9479\n",
      "Epoch 22/100\n",
      "24/24 [==============================] - 0s 13ms/step - loss: 0.1360 - accuracy: 0.9752 - val_loss: 0.1641 - val_accuracy: 0.9531\n",
      "Epoch 23/100\n",
      "24/24 [==============================] - 0s 5ms/step - loss: 0.1227 - accuracy: 0.9765 - val_loss: 0.1523 - val_accuracy: 0.9531\n",
      "Epoch 24/100\n",
      "24/24 [==============================] - 0s 4ms/step - loss: 0.1070 - accuracy: 0.9883 - val_loss: 0.1600 - val_accuracy: 0.9531\n",
      "Epoch 25/100\n",
      "24/24 [==============================] - 0s 4ms/step - loss: 0.0975 - accuracy: 0.9909 - val_loss: 0.1346 - val_accuracy: 0.9583\n",
      "Epoch 26/100\n",
      "24/24 [==============================] - 0s 5ms/step - loss: 0.0862 - accuracy: 0.9909 - val_loss: 0.1283 - val_accuracy: 0.9635\n",
      "Epoch 27/100\n",
      "24/24 [==============================] - 0s 5ms/step - loss: 0.0764 - accuracy: 0.9935 - val_loss: 0.1183 - val_accuracy: 0.9635\n",
      "Epoch 28/100\n",
      "24/24 [==============================] - 0s 4ms/step - loss: 0.0691 - accuracy: 0.9922 - val_loss: 0.0957 - val_accuracy: 0.9688\n",
      "Epoch 29/100\n",
      "24/24 [==============================] - 0s 5ms/step - loss: 0.0633 - accuracy: 0.9922 - val_loss: 0.0937 - val_accuracy: 0.9740\n",
      "Epoch 30/100\n",
      "24/24 [==============================] - 0s 4ms/step - loss: 0.0560 - accuracy: 0.9922 - val_loss: 0.0832 - val_accuracy: 0.9792\n",
      "Epoch 31/100\n",
      "24/24 [==============================] - 0s 4ms/step - loss: 0.0530 - accuracy: 0.9948 - val_loss: 0.1097 - val_accuracy: 0.9635\n",
      "Epoch 32/100\n",
      "24/24 [==============================] - 0s 4ms/step - loss: 0.0509 - accuracy: 0.9909 - val_loss: 0.0983 - val_accuracy: 0.9740\n",
      "Epoch 33/100\n",
      "24/24 [==============================] - 0s 4ms/step - loss: 0.0392 - accuracy: 0.9961 - val_loss: 0.0887 - val_accuracy: 0.9792\n",
      "Epoch 34/100\n",
      "24/24 [==============================] - 0s 4ms/step - loss: 0.0343 - accuracy: 0.9974 - val_loss: 0.0704 - val_accuracy: 0.9792\n",
      "Epoch 35/100\n",
      "24/24 [==============================] - 0s 4ms/step - loss: 0.0330 - accuracy: 0.9987 - val_loss: 0.0533 - val_accuracy: 0.9792\n",
      "Epoch 36/100\n",
      "24/24 [==============================] - 0s 4ms/step - loss: 0.0314 - accuracy: 0.9974 - val_loss: 0.0555 - val_accuracy: 0.9792\n",
      "Epoch 37/100\n",
      "24/24 [==============================] - 0s 4ms/step - loss: 0.0273 - accuracy: 1.0000 - val_loss: 0.0756 - val_accuracy: 0.9792\n",
      "Epoch 38/100\n",
      "24/24 [==============================] - 0s 4ms/step - loss: 0.0234 - accuracy: 1.0000 - val_loss: 0.0671 - val_accuracy: 0.9792\n",
      "Epoch 39/100\n",
      "24/24 [==============================] - 0s 4ms/step - loss: 0.0212 - accuracy: 1.0000 - val_loss: 0.0685 - val_accuracy: 0.9792\n",
      "Epoch 40/100\n",
      "24/24 [==============================] - 0s 4ms/step - loss: 0.0195 - accuracy: 1.0000 - val_loss: 0.0568 - val_accuracy: 0.9844\n",
      "Epoch 41/100\n",
      "24/24 [==============================] - 0s 4ms/step - loss: 0.0186 - accuracy: 1.0000 - val_loss: 0.0560 - val_accuracy: 0.9844\n",
      "Epoch 42/100\n",
      "24/24 [==============================] - 0s 4ms/step - loss: 0.0161 - accuracy: 1.0000 - val_loss: 0.0566 - val_accuracy: 0.9792\n",
      "Epoch 43/100\n",
      "24/24 [==============================] - 0s 4ms/step - loss: 0.0152 - accuracy: 1.0000 - val_loss: 0.0537 - val_accuracy: 0.9844\n",
      "Epoch 44/100\n",
      "24/24 [==============================] - 0s 4ms/step - loss: 0.0142 - accuracy: 1.0000 - val_loss: 0.0512 - val_accuracy: 0.9844\n",
      "Epoch 45/100\n",
      "24/24 [==============================] - 0s 4ms/step - loss: 0.0127 - accuracy: 1.0000 - val_loss: 0.0531 - val_accuracy: 0.9844\n",
      "Epoch 46/100\n",
      "24/24 [==============================] - 0s 7ms/step - loss: 0.0115 - accuracy: 1.0000 - val_loss: 0.0525 - val_accuracy: 0.9844\n",
      "Epoch 47/100\n",
      "24/24 [==============================] - 0s 5ms/step - loss: 0.0119 - accuracy: 1.0000 - val_loss: 0.0616 - val_accuracy: 0.9792\n",
      "Epoch 48/100\n",
      "24/24 [==============================] - 0s 5ms/step - loss: 0.0102 - accuracy: 1.0000 - val_loss: 0.0677 - val_accuracy: 0.9792\n",
      "Epoch 49/100\n",
      "24/24 [==============================] - 0s 4ms/step - loss: 0.0105 - accuracy: 1.0000 - val_loss: 0.0753 - val_accuracy: 0.9688\n",
      "Epoch 50/100\n",
      "24/24 [==============================] - 0s 4ms/step - loss: 0.0093 - accuracy: 1.0000 - val_loss: 0.0470 - val_accuracy: 0.9844\n",
      "Epoch 51/100\n",
      "24/24 [==============================] - 0s 6ms/step - loss: 0.0085 - accuracy: 1.0000 - val_loss: 0.0462 - val_accuracy: 0.9844\n",
      "Epoch 52/100\n",
      "24/24 [==============================] - 0s 4ms/step - loss: 0.0080 - accuracy: 1.0000 - val_loss: 0.0434 - val_accuracy: 0.9844\n",
      "Epoch 53/100\n",
      "24/24 [==============================] - 0s 4ms/step - loss: 0.0073 - accuracy: 1.0000 - val_loss: 0.0496 - val_accuracy: 0.9844\n",
      "Epoch 54/100\n",
      "24/24 [==============================] - 0s 4ms/step - loss: 0.0067 - accuracy: 1.0000 - val_loss: 0.0389 - val_accuracy: 0.9844\n",
      "Epoch 55/100\n",
      "24/24 [==============================] - 0s 4ms/step - loss: 0.0062 - accuracy: 1.0000 - val_loss: 0.0617 - val_accuracy: 0.9792\n",
      "Epoch 56/100\n",
      "24/24 [==============================] - 0s 4ms/step - loss: 0.0060 - accuracy: 1.0000 - val_loss: 0.0441 - val_accuracy: 0.9844\n",
      "Epoch 57/100\n",
      "24/24 [==============================] - 0s 4ms/step - loss: 0.0057 - accuracy: 1.0000 - val_loss: 0.0442 - val_accuracy: 0.9844\n",
      "Epoch 58/100\n",
      "24/24 [==============================] - 0s 4ms/step - loss: 0.0055 - accuracy: 1.0000 - val_loss: 0.0398 - val_accuracy: 0.9844\n",
      "Epoch 59/100\n",
      "24/24 [==============================] - 0s 4ms/step - loss: 0.0050 - accuracy: 1.0000 - val_loss: 0.0452 - val_accuracy: 0.9844\n",
      "Epoch 60/100\n",
      "24/24 [==============================] - 0s 4ms/step - loss: 0.0049 - accuracy: 1.0000 - val_loss: 0.0378 - val_accuracy: 0.9844\n",
      "Epoch 61/100\n",
      "24/24 [==============================] - 0s 4ms/step - loss: 0.0045 - accuracy: 1.0000 - val_loss: 0.0475 - val_accuracy: 0.9844\n",
      "Epoch 62/100\n",
      "24/24 [==============================] - 0s 4ms/step - loss: 0.0044 - accuracy: 1.0000 - val_loss: 0.0489 - val_accuracy: 0.9844\n",
      "Epoch 63/100\n",
      "24/24 [==============================] - 0s 4ms/step - loss: 0.0042 - accuracy: 1.0000 - val_loss: 0.0425 - val_accuracy: 0.9844\n",
      "Epoch 64/100\n",
      "24/24 [==============================] - 0s 4ms/step - loss: 0.0039 - accuracy: 1.0000 - val_loss: 0.0406 - val_accuracy: 0.9844\n",
      "Epoch 65/100\n",
      "24/24 [==============================] - 0s 4ms/step - loss: 0.0037 - accuracy: 1.0000 - val_loss: 0.0467 - val_accuracy: 0.9844\n",
      "Epoch 66/100\n",
      "24/24 [==============================] - 0s 5ms/step - loss: 0.0035 - accuracy: 1.0000 - val_loss: 0.0403 - val_accuracy: 0.9844\n",
      "Epoch 67/100\n",
      "24/24 [==============================] - 0s 4ms/step - loss: 0.0034 - accuracy: 1.0000 - val_loss: 0.0394 - val_accuracy: 0.9844\n",
      "Epoch 68/100\n",
      "24/24 [==============================] - 0s 4ms/step - loss: 0.0032 - accuracy: 1.0000 - val_loss: 0.0409 - val_accuracy: 0.9844\n",
      "Epoch 69/100\n",
      "24/24 [==============================] - 0s 4ms/step - loss: 0.0031 - accuracy: 1.0000 - val_loss: 0.0436 - val_accuracy: 0.9844\n",
      "Epoch 70/100\n",
      "24/24 [==============================] - 0s 4ms/step - loss: 0.0030 - accuracy: 1.0000 - val_loss: 0.0416 - val_accuracy: 0.9844\n",
      "Epoch 71/100\n",
      "24/24 [==============================] - 0s 4ms/step - loss: 0.0028 - accuracy: 1.0000 - val_loss: 0.0463 - val_accuracy: 0.9844\n",
      "Epoch 72/100\n",
      "24/24 [==============================] - 0s 4ms/step - loss: 0.0027 - accuracy: 1.0000 - val_loss: 0.0400 - val_accuracy: 0.9844\n",
      "Epoch 73/100\n",
      "24/24 [==============================] - 0s 4ms/step - loss: 0.0027 - accuracy: 1.0000 - val_loss: 0.0387 - val_accuracy: 0.9844\n",
      "Epoch 74/100\n",
      "24/24 [==============================] - 0s 4ms/step - loss: 0.0025 - accuracy: 1.0000 - val_loss: 0.0400 - val_accuracy: 0.9844\n",
      "Epoch 75/100\n",
      "24/24 [==============================] - 0s 4ms/step - loss: 0.0024 - accuracy: 1.0000 - val_loss: 0.0435 - val_accuracy: 0.9844\n",
      "Epoch 76/100\n",
      "24/24 [==============================] - 0s 12ms/step - loss: 0.0022 - accuracy: 1.0000 - val_loss: 0.0409 - val_accuracy: 0.9844\n",
      "Epoch 77/100\n",
      "24/24 [==============================] - 0s 4ms/step - loss: 0.0022 - accuracy: 1.0000 - val_loss: 0.0418 - val_accuracy: 0.9844\n",
      "Epoch 78/100\n",
      "24/24 [==============================] - 0s 4ms/step - loss: 0.0021 - accuracy: 1.0000 - val_loss: 0.0447 - val_accuracy: 0.9844\n",
      "Epoch 79/100\n",
      "24/24 [==============================] - 0s 4ms/step - loss: 0.0020 - accuracy: 1.0000 - val_loss: 0.0421 - val_accuracy: 0.9844\n",
      "Epoch 80/100\n",
      "24/24 [==============================] - 0s 4ms/step - loss: 0.0019 - accuracy: 1.0000 - val_loss: 0.0419 - val_accuracy: 0.9844\n",
      "Epoch 81/100\n",
      "24/24 [==============================] - 0s 4ms/step - loss: 0.0018 - accuracy: 1.0000 - val_loss: 0.0401 - val_accuracy: 0.9844\n",
      "Epoch 82/100\n",
      "24/24 [==============================] - 0s 4ms/step - loss: 0.0018 - accuracy: 1.0000 - val_loss: 0.0386 - val_accuracy: 0.9896\n",
      "Epoch 83/100\n",
      "24/24 [==============================] - 0s 4ms/step - loss: 0.0018 - accuracy: 1.0000 - val_loss: 0.0471 - val_accuracy: 0.9844\n",
      "Epoch 84/100\n",
      "24/24 [==============================] - 0s 5ms/step - loss: 0.0016 - accuracy: 1.0000 - val_loss: 0.0377 - val_accuracy: 0.9896\n",
      "Epoch 85/100\n",
      "24/24 [==============================] - 0s 4ms/step - loss: 0.0017 - accuracy: 1.0000 - val_loss: 0.0457 - val_accuracy: 0.9844\n",
      "Epoch 86/100\n",
      "24/24 [==============================] - 0s 4ms/step - loss: 0.0015 - accuracy: 1.0000 - val_loss: 0.0462 - val_accuracy: 0.9844\n",
      "Epoch 87/100\n",
      "24/24 [==============================] - 0s 4ms/step - loss: 0.0015 - accuracy: 1.0000 - val_loss: 0.0401 - val_accuracy: 0.9896\n",
      "Epoch 88/100\n",
      "24/24 [==============================] - 0s 4ms/step - loss: 0.0014 - accuracy: 1.0000 - val_loss: 0.0429 - val_accuracy: 0.9844\n",
      "Epoch 89/100\n",
      "24/24 [==============================] - 0s 4ms/step - loss: 0.0014 - accuracy: 1.0000 - val_loss: 0.0414 - val_accuracy: 0.9844\n",
      "Epoch 90/100\n",
      "24/24 [==============================] - 0s 4ms/step - loss: 0.0013 - accuracy: 1.0000 - val_loss: 0.0454 - val_accuracy: 0.9844\n",
      "Epoch 91/100\n",
      "24/24 [==============================] - 0s 4ms/step - loss: 0.0013 - accuracy: 1.0000 - val_loss: 0.0436 - val_accuracy: 0.9844\n",
      "Epoch 92/100\n",
      "24/24 [==============================] - 0s 4ms/step - loss: 0.0012 - accuracy: 1.0000 - val_loss: 0.0428 - val_accuracy: 0.9844\n",
      "Epoch 93/100\n",
      "24/24 [==============================] - 0s 4ms/step - loss: 0.0012 - accuracy: 1.0000 - val_loss: 0.0443 - val_accuracy: 0.9844\n",
      "Epoch 94/100\n",
      "24/24 [==============================] - 0s 4ms/step - loss: 0.0012 - accuracy: 1.0000 - val_loss: 0.0425 - val_accuracy: 0.9896\n",
      "Epoch 95/100\n",
      "24/24 [==============================] - 0s 5ms/step - loss: 0.0011 - accuracy: 1.0000 - val_loss: 0.0445 - val_accuracy: 0.9844\n",
      "Epoch 96/100\n",
      "24/24 [==============================] - 0s 5ms/step - loss: 0.0011 - accuracy: 1.0000 - val_loss: 0.0432 - val_accuracy: 0.9896\n",
      "Epoch 97/100\n",
      "24/24 [==============================] - 0s 5ms/step - loss: 0.0010 - accuracy: 1.0000 - val_loss: 0.0425 - val_accuracy: 0.9844\n",
      "Epoch 98/100\n",
      "24/24 [==============================] - 0s 4ms/step - loss: 0.0010 - accuracy: 1.0000 - val_loss: 0.0461 - val_accuracy: 0.9844\n",
      "Epoch 99/100\n",
      "24/24 [==============================] - 0s 4ms/step - loss: 9.8661e-04 - accuracy: 1.0000 - val_loss: 0.0416 - val_accuracy: 0.9896\n",
      "Epoch 100/100\n",
      "24/24 [==============================] - 0s 5ms/step - loss: 9.5514e-04 - accuracy: 1.0000 - val_loss: 0.0446 - val_accuracy: 0.9844\n"
     ]
    },
    {
     "data": {
      "text/plain": [
       "<keras.src.callbacks.History at 0x133d0638a90>"
      ]
     },
     "execution_count": 43,
     "metadata": {},
     "output_type": "execute_result"
    }
   ],
   "source": [
    "# your code here\n",
    "# Build the improved neural network model\n",
    "model = tf.keras.Sequential([\n",
    "    tf.keras.layers.Dense(32, activation='relu', input_shape=(9,)),\n",
    "    tf.keras.layers.Dense(32, activation='relu'),\n",
    "    tf.keras.layers.Dense(16, activation='relu'),\n",
    "    tf.keras.layers.Dense(2, activation='softmax')\n",
    "])\n",
    "\n",
    "# Compile the model with a custom learning rate\n",
    "optimizer = tf.keras.optimizers.Adam(learning_rate=0.001)\n",
    "model.compile(optimizer=optimizer, loss='sparse_categorical_crossentropy', metrics=['accuracy'])\n",
    "\n",
    "# Train the model with increased epochs\n",
    "model.fit(X_train, y_train, epochs=100, validation_data=(X_test, y_test), verbose=1)\n",
    "\n"
   ]
  },
  {
   "cell_type": "code",
   "execution_count": 44,
   "metadata": {},
   "outputs": [
    {
     "name": "stdout",
     "output_type": "stream",
     "text": [
      "6/6 [==============================] - 0s 3ms/step - loss: 0.0446 - accuracy: 0.9844\n",
      "Test Accuracy: 0.9844\n"
     ]
    }
   ],
   "source": [
    "# Evaluate the model\n",
    "loss, accuracy = model.evaluate(X_test, y_test)\n",
    "print(f'Test Accuracy: {accuracy:.4f}')"
   ]
  },
  {
   "cell_type": "code",
   "execution_count": 47,
   "metadata": {},
   "outputs": [
    {
     "name": "stdout",
     "output_type": "stream",
     "text": [
      "INFO:tensorflow:Assets written to: tic-tac-toe.model\\assets\n"
     ]
    },
    {
     "name": "stderr",
     "output_type": "stream",
     "text": [
      "INFO:tensorflow:Assets written to: tic-tac-toe.model\\assets\n"
     ]
    }
   ],
   "source": [
    "model.save('tic-tac-toe.model')\n",
    "loaded_model = tf.keras.models.load_model('tic-tac-toe.model')"
   ]
  },
  {
   "cell_type": "markdown",
   "metadata": {},
   "source": [
    "**Which approach(es) did you find helpful to improve your model performance?**"
   ]
  },
  {
   "cell_type": "markdown",
   "metadata": {},
   "source": [
    "The following approaches helped improve the model's performance:\n",
    "\n",
    "1- Adding More Layers: Increasing the number of hidden layers from 2 to 3 helped capture more complex patterns in the Tic Tac Toe board states.\n",
    "\n",
    "2- Increasing Neurons Per Layer:\n",
    "Expanding from 16 neurons to 32 in the first two layers improved learning capacity.\n",
    "\n",
    "3- Adjusting the Learning Rate:\n",
    "Using tf.keras.optimizers.Adam(learning_rate=0.001) instead of the default helped balance convergence speed and stability.\n",
    "\n",
    "4- Training for More Epochs:\n",
    "Increasing the epochs to 100 allowed the model to learn better without overfitting."
   ]
  },
  {
   "cell_type": "code",
   "execution_count": 48,
   "metadata": {},
   "outputs": [
    {
     "data": {
      "text/plain": [
       "' \\nAdding more layers , increase Neurons , use learning_rate=0.001 , incerease the epochs \\n'"
      ]
     },
     "execution_count": 48,
     "metadata": {},
     "output_type": "execute_result"
    }
   ],
   "source": [
    "# your answer here\n",
    "''' \n",
    "Adding more layers , increase Neurons , use learning_rate=0.001 , incerease the epochs \n",
    "'''"
   ]
  }
 ],
 "metadata": {
  "kernelspec": {
   "display_name": "Python 3",
   "language": "python",
   "name": "python3"
  },
  "language_info": {
   "codemirror_mode": {
    "name": "ipython",
    "version": 3
   },
   "file_extension": ".py",
   "mimetype": "text/x-python",
   "name": "python",
   "nbconvert_exporter": "python",
   "pygments_lexer": "ipython3",
   "version": "3.8.3"
  }
 },
 "nbformat": 4,
 "nbformat_minor": 2
}
